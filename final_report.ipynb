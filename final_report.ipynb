{
 "cells": [
  {
   "cell_type": "markdown",
   "id": "9bf0e1de",
   "metadata": {},
   "source": [
    "<div style='background-color: cyan'>\n",
    "<a id='TableOfContents'></a>\n",
    "    <b><u><i><h1 style='text-align: center'>\n",
    "        Table of Contents\n",
    "    </h1></i></u></b>\n",
    "<li><a href='#imports'>Imports</a></li>\n",
    "<li><a href='#wrangle'>Wrangle</a></li>\n",
    "<li><a href='#explore'>Exploration</a></li>\n",
    "<li><a href='#model'>Modeling</a></li>\n",
    "<li><a href='#conclusion'>Conclusion</a></li>"
   ]
  },
  {
   "cell_type": "markdown",
   "id": "6635d36b",
   "metadata": {},
   "source": [
    "<div style='background-color: cyan'>\n",
    "<a id='imports'></a>\n",
    "    <b><u><i><h1 style='text-align: center'>\n",
    "        Imports\n",
    "    </h1></i></u></b>\n",
    "<li><a href='#TableOfContents'>Table of Contents</a></li>"
   ]
  },
  {
   "cell_type": "code",
   "execution_count": 1,
   "id": "b4f15f56",
   "metadata": {},
   "outputs": [],
   "source": [
    "# Import 'final.py' to expedite and maintain cleanliness\n",
    "# of this file...\n",
    "import functions as f"
   ]
  },
  {
   "cell_type": "markdown",
   "id": "b517a47a",
   "metadata": {},
   "source": [
    "<div style='background-color: cyan'>\n",
    "<a id='wrangle'></a>\n",
    "    <b><u><i><h1 style='text-align: center'>\n",
    "        Wrangle\n",
    "    </h1></i></u></b>\n",
    "<li><a href='#TableOfContents'>Table of Contents</a></li>"
   ]
  },
  {
   "cell_type": "markdown",
   "id": "7c9b1bdb",
   "metadata": {},
   "source": [
    "<h3><b>Acquire</b></h3>"
   ]
  },
  {
   "cell_type": "markdown",
   "id": "b65a7df2",
   "metadata": {},
   "source": [
    "- Data acquired from web-scraping 15 pages of README.md files from popular github repositories on 15 May 2023. The end result is a dataset containing 150 README content blocks, 50 for each of the 3 most popular programming languages.\n",
    "\n",
    "**Filters**: Most Starred\n",
    "\n",
    "**Languages**: Java, Javascript, Python"
   ]
  },
  {
   "cell_type": "code",
   "execution_count": 10,
   "id": "391123b6",
   "metadata": {},
   "outputs": [],
   "source": [
    "#raw_data = f.acquire()\n",
    "#raw_data.shape"
   ]
  },
  {
   "cell_type": "markdown",
   "id": "a30fdf29",
   "metadata": {},
   "source": [
    "---"
   ]
  },
  {
   "cell_type": "markdown",
   "id": "a17e2843",
   "metadata": {},
   "source": [
    "<h3><b>Prepare</b></h3>"
   ]
  },
  {
   "cell_type": "markdown",
   "id": "2d83b6e4",
   "metadata": {},
   "source": [
    "- Data Parsing\n",
    "\n",
    "    - Convert text to all lower case for normalcy.\n",
    "    - Remove any accented characters, non-ASCII characters.\n",
    "    - Remove special characters.\n",
    "    - Stem or lemmatize the words.\n",
    "    - Remove stopwords.\n",
    "    - Store the clean text and the original text for use in future notebooks.    \n",
    "  \n",
    "  \n",
    "- Remove \"giveaways\"\n",
    "    - Remove 'python', 'py', 'java', 'javascript', 'js', 'script'\n",
    "        - Removed because these words showed to be dead giveaways of the language we are predicting. \n",
    "  \n",
    "  \n",
    "- Calculate README word counts\n",
    "    - Define word counts for analysis, exploration, and determining a proper statistical test.  "
   ]
  },
  {
   "cell_type": "code",
   "execution_count": 9,
   "id": "6ccc6fe2",
   "metadata": {},
   "outputs": [],
   "source": [
    "# From the 'final.py' file...\n",
    "# Get the prepared dataframe\n",
    "#prep_data = f.prepare()\n",
    "#prep_data.shape"
   ]
  },
  {
   "cell_type": "markdown",
   "id": "58a44925",
   "metadata": {},
   "source": [
    "- Prepared 'prep_data' shape:\n",
    "    - Rows: 150\n",
    "    - Columns: 2 (programming language and README content"
   ]
  },
  {
   "cell_type": "markdown",
   "id": "153baecd",
   "metadata": {},
   "source": [
    "---"
   ]
  },
  {
   "cell_type": "markdown",
   "id": "654736eb",
   "metadata": {},
   "source": [
    "---"
   ]
  },
  {
   "cell_type": "markdown",
   "id": "3bc3eb3b",
   "metadata": {},
   "source": [
    "<h3><b>Split</b></h3>"
   ]
  },
  {
   "cell_type": "markdown",
   "id": "a789cd21",
   "metadata": {},
   "source": [
    "- Train\n",
    "    - 56%\n",
    "- Validate\n",
    "    - 24%\n",
    "- Test\n",
    "    - 20%\n",
    "    \n",
    "**Stratified on Programming Language**"
   ]
  },
  {
   "cell_type": "markdown",
   "id": "4ef21d1b",
   "metadata": {},
   "source": [
    "<div style='background-color: cyan'>\n",
    "<a id='explore'></a>\n",
    "    <b><u><i><h1 style='text-align: center'>\n",
    "        Exploration\n",
    "    </h1></i></u></b>\n",
    "<li><a href='#TableOfContents'>Table of Contents</a></li>\n",
    "<li><a href='#visuals'>Key Visuals</a></li>\n",
    "<li><a href='#exploresummary'>Summary</a></li>"
   ]
  },
  {
   "cell_type": "markdown",
   "id": "c924a0a2",
   "metadata": {},
   "source": [
    "<a id='visuals'></a>\n",
    "<h3><b>Key Visuals</b></h3>\n",
    "<li><a href='#explore'>Exploration Top</a></li>"
   ]
  },
  {
   "cell_type": "code",
   "execution_count": null,
   "id": "1f41a998",
   "metadata": {},
   "outputs": [],
   "source": [
    "# From the 'final.py' file...\n",
    "# Get the Kruskal-Wallis Test comparing README word counts among the 3 groups\n"
   ]
  },
  {
   "cell_type": "markdown",
   "id": "34be45b5",
   "metadata": {},
   "source": [
    "<b>Question 1:</b> \n",
    "\n",
    "<b>H$_0$:</b> There is no significant difference in word counts among the three groups.\n",
    "\n",
    "<b>H$_a$:</b> There is a significant difference in word counts among the three groups.\n",
    "\n",
    "<b>&alpha;</b> = **0.5**"
   ]
  },
  {
   "cell_type": "markdown",
   "id": "c20a60df",
   "metadata": {},
   "source": [
    "<b>Q1 Answer:</b> \n",
    "\n",
    "**Because our p-value is lower than our alpha, we can reject the null hypothesis, and state with confidence that there is a significant difference in README word count amoung the the groups.**"
   ]
  },
  {
   "cell_type": "code",
   "execution_count": null,
   "id": "fd31d684",
   "metadata": {},
   "outputs": [],
   "source": [
    "# From the 'final.py' file...\n",
    "# Get the {Vis} of {FEATURE} vs. {FEATURE}"
   ]
  },
  {
   "cell_type": "code",
   "execution_count": null,
   "id": "db8d8423",
   "metadata": {},
   "outputs": [],
   "source": [
    "# From the 'final.py' file...\n",
    "# Get the {Vis} of {FEATURE} vs. {FEATURE}"
   ]
  },
  {
   "cell_type": "code",
   "execution_count": null,
   "id": "c1931a19",
   "metadata": {},
   "outputs": [],
   "source": [
    "# From the 'final.py' file...\n",
    "# Get the {Vis} of {FEATURE} vs. {FEATURE}"
   ]
  },
  {
   "cell_type": "code",
   "execution_count": null,
   "id": "d31a4404",
   "metadata": {},
   "outputs": [],
   "source": [
    "# From the 'final.py' file...\n",
    "# Get the {Vis} of {FEATURE} vs. {FEATURE}"
   ]
  },
  {
   "cell_type": "code",
   "execution_count": null,
   "id": "6c1c5ad3",
   "metadata": {},
   "outputs": [],
   "source": [
    "# From the 'final.py' file...\n",
    "# Get the {Vis} of {FEATURE} vs. {FEATURE}"
   ]
  },
  {
   "cell_type": "markdown",
   "id": "b8242f5a",
   "metadata": {},
   "source": [
    "<a id='exploresummary'></a>\n",
    "<h3><b>Summary</b></h3>\n",
    "<li><a href='#explore'>Exploration Top</a></li>"
   ]
  },
  {
   "cell_type": "markdown",
   "id": "a481705a",
   "metadata": {},
   "source": [
    "SUMMARY OF EXPLORATION"
   ]
  },
  {
   "cell_type": "markdown",
   "id": "6e1c7641",
   "metadata": {},
   "source": [
    "<div style='background-color: cyan'>\n",
    "<a id='model'></a>\n",
    "    <b><u><i><h1 style='text-align: center'>\n",
    "        Modeling\n",
    "    </h1></i></u></b>\n",
    "<li><a href='#TableOfContents'>Table of Contents</a></li>\n",
    "<li><a href='#baseline'>Baseline</a></li>\n",
    "<li><a href='#modeltable'>Models Table</a></li>\n",
    "<li><a href='#bestmodel'>Best Model</a></li>"
   ]
  },
  {
   "cell_type": "markdown",
   "id": "5e69a6d0",
   "metadata": {},
   "source": [
    "<a id='baseline'></a>\n",
    "<h3><b>Baseline</b></h3>\n",
    "<li><a href='#model'>Modeling Top</a></li>"
   ]
  },
  {
   "cell_type": "code",
   "execution_count": 2,
   "id": "64cb4058",
   "metadata": {},
   "outputs": [],
   "source": [
    "# From the 'final.py' file...\n",
    "# Obtain the baseline score of {FEATURE} via {METHOD}\n"
   ]
  },
  {
   "cell_type": "markdown",
   "id": "3012b3f5",
   "metadata": {},
   "source": [
    "---"
   ]
  },
  {
   "cell_type": "markdown",
   "id": "0c265b70",
   "metadata": {},
   "source": [
    "<a id='modeltable'></a>\n",
    "<h3><b>Models Table</b></h3>\n",
    "<li><a href='#model'>Modeling Top</a></li>"
   ]
  },
  {
   "cell_type": "code",
   "execution_count": 3,
   "id": "01d79150",
   "metadata": {},
   "outputs": [],
   "source": [
    "# From the 'final.py' file...\n",
    "# Get the scores of the baseline and 4 unique models\n"
   ]
  },
  {
   "cell_type": "markdown",
   "id": "f3ccf259",
   "metadata": {},
   "source": [
    "{METRIC HERE}:\n",
    "\n",
    "{EXPLANATION OF REASONING HERE}"
   ]
  },
  {
   "cell_type": "markdown",
   "id": "b8348306",
   "metadata": {},
   "source": [
    "---"
   ]
  },
  {
   "cell_type": "markdown",
   "id": "fc1b43ed",
   "metadata": {},
   "source": [
    "<a id='bestmodel'></a>\n",
    "<h3><b>Best Model</b></h3>\n",
    "<li><a href='#model'>Modeling Top</a></li>"
   ]
  },
  {
   "cell_type": "code",
   "execution_count": 4,
   "id": "c9fe51ac",
   "metadata": {},
   "outputs": [],
   "source": [
    "# From the 'final.py' file...\n",
    "# Get the scores of the baseline and the best model\n"
   ]
  },
  {
   "cell_type": "markdown",
   "id": "03bb7a65",
   "metadata": {},
   "source": [
    "<div style='background-color: cyan'>\n",
    "<a id='conclusion'></a>\n",
    "    <b><u><i><h1 style='text-align: center'>\n",
    "        Conclusion\n",
    "    </h1></i></u></b>\n",
    "<li><a href='#TableOfContents'>Table of Contents</a></li>\n",
    "<li><a href='#conclusionsummary'>Summary</a></li>\n",
    "<li><a href='#rec'>Recommendations</a></li>\n",
    "<li><a href='#nextsteps'>Next-Steps</a></li>"
   ]
  },
  {
   "cell_type": "markdown",
   "id": "ad8259d8",
   "metadata": {},
   "source": [
    "<a id='conclusionsummary'></a>\n",
    "<h3><b>Summary</b></h3>\n",
    "<li><a href='#conclusion'>Conclusion Top</a></li>"
   ]
  },
  {
   "cell_type": "markdown",
   "id": "5d1f5ea3",
   "metadata": {},
   "source": [
    "SUMMARY HERE"
   ]
  },
  {
   "cell_type": "markdown",
   "id": "d98a7b21",
   "metadata": {},
   "source": [
    "---"
   ]
  },
  {
   "cell_type": "markdown",
   "id": "b04314bc",
   "metadata": {},
   "source": [
    "<a id='rec'></a>\n",
    "<h3><b>Recommendations</b></h3>\n",
    "<li><a href='#conclusion'>Conclusion Top</a></li>"
   ]
  },
  {
   "cell_type": "markdown",
   "id": "4ae21204",
   "metadata": {},
   "source": [
    "RECOMMENDATIONS HERE"
   ]
  },
  {
   "cell_type": "markdown",
   "id": "ae99078c",
   "metadata": {},
   "source": [
    "---"
   ]
  },
  {
   "cell_type": "markdown",
   "id": "7f93b4d0",
   "metadata": {},
   "source": [
    "<a id='nextsteps'></a>\n",
    "<h3><b>Next-Steps</b></h3>\n",
    "<li><a href='#conclusion'>Conclusion Top</a></li>"
   ]
  },
  {
   "cell_type": "markdown",
   "id": "fc095ac6",
   "metadata": {},
   "source": [
    "NEXT-STEPS HERE"
   ]
  },
  {
   "cell_type": "code",
   "execution_count": null,
   "id": "d48f0ba7",
   "metadata": {},
   "outputs": [],
   "source": []
  }
 ],
 "metadata": {
  "kernelspec": {
   "display_name": "Python 3 (ipykernel)",
   "language": "python",
   "name": "python3"
  },
  "language_info": {
   "codemirror_mode": {
    "name": "ipython",
    "version": 3
   },
   "file_extension": ".py",
   "mimetype": "text/x-python",
   "name": "python",
   "nbconvert_exporter": "python",
   "pygments_lexer": "ipython3",
   "version": "3.9.13"
  }
 },
 "nbformat": 4,
 "nbformat_minor": 5
}
