{
 "cells": [
  {
   "cell_type": "code",
   "execution_count": 20,
   "id": "dc01d79d-48f7-4a85-a38b-728c3d02f077",
   "metadata": {},
   "outputs": [],
   "source": [
    "import pandas as pd\n",
    "import numpy as np\n",
    "from nlpproj_prepare import train_val_test, readme_length, basic_clean_df2\n",
    "\n",
    "import matplotlib.pyplot as plt\n",
    "import seaborn as sb\n",
    "\n",
    "import nltk\n",
    "from nltk.corpus import stopwords\n",
    "import unicodedata\n",
    "import re\n",
    "import requests\n",
    "from bs4 import BeautifulSoup as bs\n",
    "import json\n",
    "from PIL import Image\n",
    "\n",
    "from sklearn.model_selection import train_test_split\n",
    "from sklearn.feature_extraction.text import TfidfVectorizer, CountVectorizer\n",
    "from sklearn.linear_model import LogisticRegression\n",
    "from sklearn.metrics import classification_report, accuracy_score, confusion_matrix\n",
    "from sklearn.tree import DecisionTreeClassifier \n",
    "from sklearn.ensemble import RandomForestClassifier\n",
    "from sklearn.neighbors import KNeighborsClassifier\n",
    "\n",
    "import warnings\n",
    "warnings.filterwarnings('ignore')\n",
    "# nltk.download('all')"
   ]
  },
  {
   "cell_type": "markdown",
   "id": "e6b93629-f114-40e8-b77c-3ac775a0fd48",
   "metadata": {},
   "source": [
    "### Acquire"
   ]
  },
  {
   "cell_type": "code",
   "execution_count": 2,
   "id": "44d52a2c-e907-4d14-ad63-e774cebe2c12",
   "metadata": {},
   "outputs": [],
   "source": [
    "df = pd.read_json('data.json')"
   ]
  },
  {
   "cell_type": "code",
   "execution_count": 3,
   "id": "c05a0e96-319c-465d-9fdc-1e0b4d3b78c3",
   "metadata": {},
   "outputs": [
    {
     "data": {
      "text/html": [
       "<div>\n",
       "<style scoped>\n",
       "    .dataframe tbody tr th:only-of-type {\n",
       "        vertical-align: middle;\n",
       "    }\n",
       "\n",
       "    .dataframe tbody tr th {\n",
       "        vertical-align: top;\n",
       "    }\n",
       "\n",
       "    .dataframe thead th {\n",
       "        text-align: right;\n",
       "    }\n",
       "</style>\n",
       "<table border=\"1\" class=\"dataframe\">\n",
       "  <thead>\n",
       "    <tr style=\"text-align: right;\">\n",
       "      <th></th>\n",
       "      <th>repo</th>\n",
       "      <th>language</th>\n",
       "      <th>readme_contents</th>\n",
       "    </tr>\n",
       "  </thead>\n",
       "  <tbody>\n",
       "    <tr>\n",
       "      <th>0</th>\n",
       "      <td>Jasonette/JASONETTE-Android</td>\n",
       "      <td>Java</td>\n",
       "      <td>Development Moved to\\nhttps://github.com/jason...</td>\n",
       "    </tr>\n",
       "    <tr>\n",
       "      <th>1</th>\n",
       "      <td>vivchar/RendererRecyclerViewAdapter</td>\n",
       "      <td>Java</td>\n",
       "      <td>If you like this project you can show support ...</td>\n",
       "    </tr>\n",
       "    <tr>\n",
       "      <th>2</th>\n",
       "      <td>Pkmmte/CircularImageView</td>\n",
       "      <td>Java</td>\n",
       "      <td>CircularImageView\\n=================\\n\\nCustom...</td>\n",
       "    </tr>\n",
       "    <tr>\n",
       "      <th>3</th>\n",
       "      <td>D-clock/AndroidSystemUiTraining</td>\n",
       "      <td>Java</td>\n",
       "      <td># Android System UI Training\\n\\n本代码库整理总结 Andro...</td>\n",
       "    </tr>\n",
       "    <tr>\n",
       "      <th>4</th>\n",
       "      <td>xujeff/tianti</td>\n",
       "      <td>Java</td>\n",
       "      <td># 天梯（tianti）\\n  [天梯](https://yuedu.baidu.com/e...</td>\n",
       "    </tr>\n",
       "    <tr>\n",
       "      <th>...</th>\n",
       "      <td>...</td>\n",
       "      <td>...</td>\n",
       "      <td>...</td>\n",
       "    </tr>\n",
       "    <tr>\n",
       "      <th>145</th>\n",
       "      <td>alexander-rakhlin/CNN-for-Sentence-Classificat...</td>\n",
       "      <td>Python</td>\n",
       "      <td># Convolutional Neural Networks for Sentence C...</td>\n",
       "    </tr>\n",
       "    <tr>\n",
       "      <th>146</th>\n",
       "      <td>alexa-pi/AlexaPiDEPRECATED</td>\n",
       "      <td>Python</td>\n",
       "      <td># AlexaPi\\n\\n## Use the new AlexaPi https://gi...</td>\n",
       "    </tr>\n",
       "    <tr>\n",
       "      <th>147</th>\n",
       "      <td>hangoutsbot/hangoutsbot</td>\n",
       "      <td>Python</td>\n",
       "      <td># Introduction\\n\\nHangupsbot is a chat bot des...</td>\n",
       "    </tr>\n",
       "    <tr>\n",
       "      <th>148</th>\n",
       "      <td>musalbas/heartbleed-masstest</td>\n",
       "      <td>Python</td>\n",
       "      <td>This tool allows you to scan multiple hosts fo...</td>\n",
       "    </tr>\n",
       "    <tr>\n",
       "      <th>149</th>\n",
       "      <td>cloudant/bigcouch</td>\n",
       "      <td>Python</td>\n",
       "      <td>## IMPORTANT NOTE: BigCouch is no longer suppo...</td>\n",
       "    </tr>\n",
       "  </tbody>\n",
       "</table>\n",
       "<p>150 rows × 3 columns</p>\n",
       "</div>"
      ],
      "text/plain": [
       "                                                  repo language  \\\n",
       "0                          Jasonette/JASONETTE-Android     Java   \n",
       "1                  vivchar/RendererRecyclerViewAdapter     Java   \n",
       "2                             Pkmmte/CircularImageView     Java   \n",
       "3                      D-clock/AndroidSystemUiTraining     Java   \n",
       "4                                        xujeff/tianti     Java   \n",
       "..                                                 ...      ...   \n",
       "145  alexander-rakhlin/CNN-for-Sentence-Classificat...   Python   \n",
       "146                         alexa-pi/AlexaPiDEPRECATED   Python   \n",
       "147                            hangoutsbot/hangoutsbot   Python   \n",
       "148                       musalbas/heartbleed-masstest   Python   \n",
       "149                                  cloudant/bigcouch   Python   \n",
       "\n",
       "                                       readme_contents  \n",
       "0    Development Moved to\\nhttps://github.com/jason...  \n",
       "1    If you like this project you can show support ...  \n",
       "2    CircularImageView\\n=================\\n\\nCustom...  \n",
       "3    # Android System UI Training\\n\\n本代码库整理总结 Andro...  \n",
       "4    # 天梯（tianti）\\n  [天梯](https://yuedu.baidu.com/e...  \n",
       "..                                                 ...  \n",
       "145  # Convolutional Neural Networks for Sentence C...  \n",
       "146  # AlexaPi\\n\\n## Use the new AlexaPi https://gi...  \n",
       "147  # Introduction\\n\\nHangupsbot is a chat bot des...  \n",
       "148  This tool allows you to scan multiple hosts fo...  \n",
       "149  ## IMPORTANT NOTE: BigCouch is no longer suppo...  \n",
       "\n",
       "[150 rows x 3 columns]"
      ]
     },
     "execution_count": 3,
     "metadata": {},
     "output_type": "execute_result"
    }
   ],
   "source": [
    "df"
   ]
  },
  {
   "cell_type": "code",
   "execution_count": 4,
   "id": "828b4047-7628-4a77-8683-d9a7bfc3df9b",
   "metadata": {},
   "outputs": [
    {
     "data": {
      "text/plain": [
       "Java          50\n",
       "JavaScript    50\n",
       "Python        50\n",
       "Name: language, dtype: int64"
      ]
     },
     "execution_count": 4,
     "metadata": {},
     "output_type": "execute_result"
    }
   ],
   "source": [
    "df.language.value_counts()"
   ]
  },
  {
   "cell_type": "code",
   "execution_count": 5,
   "id": "205343ca-36ac-4e01-88bd-a87f220187f4",
   "metadata": {},
   "outputs": [
    {
     "data": {
      "text/plain": [
       "repo               0\n",
       "language           0\n",
       "readme_contents    0\n",
       "dtype: int64"
      ]
     },
     "execution_count": 5,
     "metadata": {},
     "output_type": "execute_result"
    }
   ],
   "source": [
    "df.isnull().sum()"
   ]
  },
  {
   "cell_type": "markdown",
   "id": "77d1a6e0-ad04-40ea-aad5-2f097580556f",
   "metadata": {},
   "source": [
    "### Prepare"
   ]
  },
  {
   "cell_type": "code",
   "execution_count": 6,
   "id": "ccded8a2-585a-4b80-bd2e-f8afed98d4cb",
   "metadata": {},
   "outputs": [],
   "source": [
    "from nltk.corpus import stopwords"
   ]
  },
  {
   "cell_type": "code",
   "execution_count": 7,
   "id": "a4ae8fab-f836-4dc1-814c-e40c27647e4a",
   "metadata": {
    "tags": []
   },
   "outputs": [
    {
     "data": {
      "text/html": [
       "<div>\n",
       "<style scoped>\n",
       "    .dataframe tbody tr th:only-of-type {\n",
       "        vertical-align: middle;\n",
       "    }\n",
       "\n",
       "    .dataframe tbody tr th {\n",
       "        vertical-align: top;\n",
       "    }\n",
       "\n",
       "    .dataframe thead th {\n",
       "        text-align: right;\n",
       "    }\n",
       "</style>\n",
       "<table border=\"1\" class=\"dataframe\">\n",
       "  <thead>\n",
       "    <tr style=\"text-align: right;\">\n",
       "      <th></th>\n",
       "      <th>repo</th>\n",
       "      <th>language</th>\n",
       "      <th>readme_contents</th>\n",
       "    </tr>\n",
       "  </thead>\n",
       "  <tbody>\n",
       "    <tr>\n",
       "      <th>0</th>\n",
       "      <td>jasonettejasonetteandroid</td>\n",
       "      <td>java</td>\n",
       "      <td>development moved httpsgithubcomjasonellejason...</td>\n",
       "    </tr>\n",
       "    <tr>\n",
       "      <th>1</th>\n",
       "      <td>vivcharrendererrecyclerviewadapter</td>\n",
       "      <td>java</td>\n",
       "      <td>like project show support starring repository ...</td>\n",
       "    </tr>\n",
       "    <tr>\n",
       "      <th>2</th>\n",
       "      <td>pkmmtecircularimageview</td>\n",
       "      <td>java</td>\n",
       "      <td>circularimageview custom view circular image a...</td>\n",
       "    </tr>\n",
       "    <tr>\n",
       "      <th>3</th>\n",
       "      <td>dclockandroidsystemuitraining</td>\n",
       "      <td>java</td>\n",
       "      <td>android system ui training  android uiforkstar...</td>\n",
       "    </tr>\n",
       "    <tr>\n",
       "      <th>4</th>\n",
       "      <td>xujefftianti</td>\n",
       "      <td>java</td>\n",
       "      <td>tianti httpsyuedubaiducomebook7a5efa31fbd6195f...</td>\n",
       "    </tr>\n",
       "    <tr>\n",
       "      <th>...</th>\n",
       "      <td>...</td>\n",
       "      <td>...</td>\n",
       "      <td>...</td>\n",
       "    </tr>\n",
       "    <tr>\n",
       "      <th>145</th>\n",
       "      <td>alexanderrakhlincnnforsentenceclassificationin...</td>\n",
       "      <td>python</td>\n",
       "      <td>convolutional neural network sentence classifi...</td>\n",
       "    </tr>\n",
       "    <tr>\n",
       "      <th>146</th>\n",
       "      <td>alexapialexapideprecated</td>\n",
       "      <td>python</td>\n",
       "      <td>alexapi use new alexapi httpsgithubcomalexapia...</td>\n",
       "    </tr>\n",
       "    <tr>\n",
       "      <th>147</th>\n",
       "      <td>hangoutsbothangoutsbot</td>\n",
       "      <td>python</td>\n",
       "      <td>introduction hangupsbot chat bot designed work...</td>\n",
       "    </tr>\n",
       "    <tr>\n",
       "      <th>148</th>\n",
       "      <td>musalbasheartbleedmasstest</td>\n",
       "      <td>python</td>\n",
       "      <td>tool allows scan multiple host heartbleed effi...</td>\n",
       "    </tr>\n",
       "    <tr>\n",
       "      <th>149</th>\n",
       "      <td>cloudantbigcouch</td>\n",
       "      <td>python</td>\n",
       "      <td>important note bigcouch longer supported cloud...</td>\n",
       "    </tr>\n",
       "  </tbody>\n",
       "</table>\n",
       "<p>150 rows × 3 columns</p>\n",
       "</div>"
      ],
      "text/plain": [
       "                                                  repo language  \\\n",
       "0                            jasonettejasonetteandroid     java   \n",
       "1                   vivcharrendererrecyclerviewadapter     java   \n",
       "2                              pkmmtecircularimageview     java   \n",
       "3                        dclockandroidsystemuitraining     java   \n",
       "4                                         xujefftianti     java   \n",
       "..                                                 ...      ...   \n",
       "145  alexanderrakhlincnnforsentenceclassificationin...   python   \n",
       "146                           alexapialexapideprecated   python   \n",
       "147                             hangoutsbothangoutsbot   python   \n",
       "148                         musalbasheartbleedmasstest   python   \n",
       "149                                   cloudantbigcouch   python   \n",
       "\n",
       "                                       readme_contents  \n",
       "0    development moved httpsgithubcomjasonellejason...  \n",
       "1    like project show support starring repository ...  \n",
       "2    circularimageview custom view circular image a...  \n",
       "3    android system ui training  android uiforkstar...  \n",
       "4    tianti httpsyuedubaiducomebook7a5efa31fbd6195f...  \n",
       "..                                                 ...  \n",
       "145  convolutional neural network sentence classifi...  \n",
       "146  alexapi use new alexapi httpsgithubcomalexapia...  \n",
       "147  introduction hangupsbot chat bot designed work...  \n",
       "148  tool allows scan multiple host heartbleed effi...  \n",
       "149  important note bigcouch longer supported cloud...  \n",
       "\n",
       "[150 rows x 3 columns]"
      ]
     },
     "execution_count": 7,
     "metadata": {},
     "output_type": "execute_result"
    }
   ],
   "source": [
    "basic_clean_df2(df)"
   ]
  },
  {
   "cell_type": "code",
   "execution_count": 8,
   "id": "a1b11c03-fb46-4df2-a688-ccf2b49a3105",
   "metadata": {},
   "outputs": [],
   "source": [
    "# def readme_length(df, col):\n",
    "#     \"\"\" This function takes in each README.md file and returns the word count for each file\"\"\"\n",
    "#     length = []\n",
    "#     for x in df[col]:\n",
    "#         read_len= len(x)\n",
    "#         length.append(read_len)\n",
    "#     return length"
   ]
  },
  {
   "cell_type": "code",
   "execution_count": 9,
   "id": "66bcd9b2-b988-435d-8815-2c015f475b4e",
   "metadata": {},
   "outputs": [],
   "source": [
    "df['readme_length']= readme_length(df,'readme_contents')"
   ]
  },
  {
   "cell_type": "code",
   "execution_count": 10,
   "id": "d9412526-4be0-40bd-819d-ecfd1520c7c3",
   "metadata": {},
   "outputs": [
    {
     "data": {
      "text/html": [
       "<div>\n",
       "<style scoped>\n",
       "    .dataframe tbody tr th:only-of-type {\n",
       "        vertical-align: middle;\n",
       "    }\n",
       "\n",
       "    .dataframe tbody tr th {\n",
       "        vertical-align: top;\n",
       "    }\n",
       "\n",
       "    .dataframe thead th {\n",
       "        text-align: right;\n",
       "    }\n",
       "</style>\n",
       "<table border=\"1\" class=\"dataframe\">\n",
       "  <thead>\n",
       "    <tr style=\"text-align: right;\">\n",
       "      <th></th>\n",
       "      <th>repo</th>\n",
       "      <th>language</th>\n",
       "      <th>readme_contents</th>\n",
       "      <th>readme_length</th>\n",
       "    </tr>\n",
       "  </thead>\n",
       "  <tbody>\n",
       "    <tr>\n",
       "      <th>0</th>\n",
       "      <td>Jasonette/JASONETTE-Android</td>\n",
       "      <td>Java</td>\n",
       "      <td>Development Moved to\\nhttps://github.com/jason...</td>\n",
       "      <td>61</td>\n",
       "    </tr>\n",
       "    <tr>\n",
       "      <th>1</th>\n",
       "      <td>vivchar/RendererRecyclerViewAdapter</td>\n",
       "      <td>Java</td>\n",
       "      <td>If you like this project you can show support ...</td>\n",
       "      <td>8876</td>\n",
       "    </tr>\n",
       "    <tr>\n",
       "      <th>2</th>\n",
       "      <td>Pkmmte/CircularImageView</td>\n",
       "      <td>Java</td>\n",
       "      <td>CircularImageView\\n=================\\n\\nCustom...</td>\n",
       "      <td>3599</td>\n",
       "    </tr>\n",
       "    <tr>\n",
       "      <th>3</th>\n",
       "      <td>D-clock/AndroidSystemUiTraining</td>\n",
       "      <td>Java</td>\n",
       "      <td># Android System UI Training\\n\\n本代码库整理总结 Andro...</td>\n",
       "      <td>905</td>\n",
       "    </tr>\n",
       "    <tr>\n",
       "      <th>4</th>\n",
       "      <td>xujeff/tianti</td>\n",
       "      <td>Java</td>\n",
       "      <td># 天梯（tianti）\\n  [天梯](https://yuedu.baidu.com/e...</td>\n",
       "      <td>4557</td>\n",
       "    </tr>\n",
       "    <tr>\n",
       "      <th>...</th>\n",
       "      <td>...</td>\n",
       "      <td>...</td>\n",
       "      <td>...</td>\n",
       "      <td>...</td>\n",
       "    </tr>\n",
       "    <tr>\n",
       "      <th>145</th>\n",
       "      <td>alexander-rakhlin/CNN-for-Sentence-Classificat...</td>\n",
       "      <td>Python</td>\n",
       "      <td># Convolutional Neural Networks for Sentence C...</td>\n",
       "      <td>1200</td>\n",
       "    </tr>\n",
       "    <tr>\n",
       "      <th>146</th>\n",
       "      <td>alexa-pi/AlexaPiDEPRECATED</td>\n",
       "      <td>Python</td>\n",
       "      <td># AlexaPi\\n\\n## Use the new AlexaPi https://gi...</td>\n",
       "      <td>4457</td>\n",
       "    </tr>\n",
       "    <tr>\n",
       "      <th>147</th>\n",
       "      <td>hangoutsbot/hangoutsbot</td>\n",
       "      <td>Python</td>\n",
       "      <td># Introduction\\n\\nHangupsbot is a chat bot des...</td>\n",
       "      <td>7766</td>\n",
       "    </tr>\n",
       "    <tr>\n",
       "      <th>148</th>\n",
       "      <td>musalbas/heartbleed-masstest</td>\n",
       "      <td>Python</td>\n",
       "      <td>This tool allows you to scan multiple hosts fo...</td>\n",
       "      <td>1813</td>\n",
       "    </tr>\n",
       "    <tr>\n",
       "      <th>149</th>\n",
       "      <td>cloudant/bigcouch</td>\n",
       "      <td>Python</td>\n",
       "      <td>## IMPORTANT NOTE: BigCouch is no longer suppo...</td>\n",
       "      <td>1517</td>\n",
       "    </tr>\n",
       "  </tbody>\n",
       "</table>\n",
       "<p>150 rows × 4 columns</p>\n",
       "</div>"
      ],
      "text/plain": [
       "                                                  repo language  \\\n",
       "0                          Jasonette/JASONETTE-Android     Java   \n",
       "1                  vivchar/RendererRecyclerViewAdapter     Java   \n",
       "2                             Pkmmte/CircularImageView     Java   \n",
       "3                      D-clock/AndroidSystemUiTraining     Java   \n",
       "4                                        xujeff/tianti     Java   \n",
       "..                                                 ...      ...   \n",
       "145  alexander-rakhlin/CNN-for-Sentence-Classificat...   Python   \n",
       "146                         alexa-pi/AlexaPiDEPRECATED   Python   \n",
       "147                            hangoutsbot/hangoutsbot   Python   \n",
       "148                       musalbas/heartbleed-masstest   Python   \n",
       "149                                  cloudant/bigcouch   Python   \n",
       "\n",
       "                                       readme_contents  readme_length  \n",
       "0    Development Moved to\\nhttps://github.com/jason...             61  \n",
       "1    If you like this project you can show support ...           8876  \n",
       "2    CircularImageView\\n=================\\n\\nCustom...           3599  \n",
       "3    # Android System UI Training\\n\\n本代码库整理总结 Andro...            905  \n",
       "4    # 天梯（tianti）\\n  [天梯](https://yuedu.baidu.com/e...           4557  \n",
       "..                                                 ...            ...  \n",
       "145  # Convolutional Neural Networks for Sentence C...           1200  \n",
       "146  # AlexaPi\\n\\n## Use the new AlexaPi https://gi...           4457  \n",
       "147  # Introduction\\n\\nHangupsbot is a chat bot des...           7766  \n",
       "148  This tool allows you to scan multiple hosts fo...           1813  \n",
       "149  ## IMPORTANT NOTE: BigCouch is no longer suppo...           1517  \n",
       "\n",
       "[150 rows x 4 columns]"
      ]
     },
     "execution_count": 10,
     "metadata": {},
     "output_type": "execute_result"
    }
   ],
   "source": [
    "df"
   ]
  },
  {
   "cell_type": "markdown",
   "id": "ebdc1cc8-dad8-4163-b69f-49166953aac0",
   "metadata": {},
   "source": [
    "### Explore \n",
    "\n",
    "Will come back to this. Moving on to modeling"
   ]
  },
  {
   "cell_type": "code",
   "execution_count": null,
   "id": "e7e70d68-1ad4-4545-a6ec-773a8ccda655",
   "metadata": {},
   "outputs": [],
   "source": []
  },
  {
   "cell_type": "markdown",
   "id": "5a03b56f-1b19-4147-a1a0-50ee45cd8e0c",
   "metadata": {},
   "source": [
    "### Split"
   ]
  },
  {
   "cell_type": "code",
   "execution_count": 11,
   "id": "6c08ab43-4882-4fec-a4fb-112c70082625",
   "metadata": {},
   "outputs": [],
   "source": [
    "from sklearn.model_selection import train_test_split"
   ]
  },
  {
   "cell_type": "code",
   "execution_count": 12,
   "id": "38539c64-b4c0-4895-b1f0-7178b80f099c",
   "metadata": {},
   "outputs": [],
   "source": [
    "train, val, test = train_val_test(df, stratify=False, target=None)"
   ]
  },
  {
   "cell_type": "code",
   "execution_count": 13,
   "id": "7c1abf55-baaf-4f88-9409-15b84d8e277f",
   "metadata": {},
   "outputs": [
    {
     "data": {
      "text/plain": [
       "((84, 4), (36, 4), (30, 4))"
      ]
     },
     "execution_count": 13,
     "metadata": {},
     "output_type": "execute_result"
    }
   ],
   "source": [
    "train.shape, val.shape, test.shape"
   ]
  },
  {
   "cell_type": "code",
   "execution_count": 16,
   "id": "da470b9f-ad6c-445c-b577-6339373bf472",
   "metadata": {},
   "outputs": [
    {
     "data": {
      "text/html": [
       "<div>\n",
       "<style scoped>\n",
       "    .dataframe tbody tr th:only-of-type {\n",
       "        vertical-align: middle;\n",
       "    }\n",
       "\n",
       "    .dataframe tbody tr th {\n",
       "        vertical-align: top;\n",
       "    }\n",
       "\n",
       "    .dataframe thead th {\n",
       "        text-align: right;\n",
       "    }\n",
       "</style>\n",
       "<table border=\"1\" class=\"dataframe\">\n",
       "  <thead>\n",
       "    <tr style=\"text-align: right;\">\n",
       "      <th></th>\n",
       "      <th>repo</th>\n",
       "      <th>language</th>\n",
       "      <th>readme_contents</th>\n",
       "      <th>readme_length</th>\n",
       "    </tr>\n",
       "  </thead>\n",
       "  <tbody>\n",
       "    <tr>\n",
       "      <th>1</th>\n",
       "      <td>vivchar/RendererRecyclerViewAdapter</td>\n",
       "      <td>Java</td>\n",
       "      <td>If you like this project you can show support ...</td>\n",
       "      <td>8876</td>\n",
       "    </tr>\n",
       "    <tr>\n",
       "      <th>95</th>\n",
       "      <td>maxzhang/maxzhang.github.com</td>\n",
       "      <td>JavaScript</td>\n",
       "      <td>maxzhang.github.io\\n==================\\n\\n&gt; Th...</td>\n",
       "      <td>102</td>\n",
       "    </tr>\n",
       "    <tr>\n",
       "      <th>99</th>\n",
       "      <td>svrcekmichal/redux-axios-middleware</td>\n",
       "      <td>JavaScript</td>\n",
       "      <td># redux-axios-middleware\\n\\n[![npm version](ht...</td>\n",
       "      <td>11542</td>\n",
       "    </tr>\n",
       "    <tr>\n",
       "      <th>49</th>\n",
       "      <td>liuyanggithub/SuperMvp</td>\n",
       "      <td>Java</td>\n",
       "      <td>#  SuperMvp\\n## **MVP + RxJava3 + Retrofit + G...</td>\n",
       "      <td>3438</td>\n",
       "    </tr>\n",
       "    <tr>\n",
       "      <th>104</th>\n",
       "      <td>some-programs/exitwp</td>\n",
       "      <td>Python</td>\n",
       "      <td>######\\nExitwp\\n######\\n\\nExitwp is tool for m...</td>\n",
       "      <td>3888</td>\n",
       "    </tr>\n",
       "  </tbody>\n",
       "</table>\n",
       "</div>"
      ],
      "text/plain": [
       "                                    repo    language  \\\n",
       "1    vivchar/RendererRecyclerViewAdapter        Java   \n",
       "95          maxzhang/maxzhang.github.com  JavaScript   \n",
       "99   svrcekmichal/redux-axios-middleware  JavaScript   \n",
       "49                liuyanggithub/SuperMvp        Java   \n",
       "104                 some-programs/exitwp      Python   \n",
       "\n",
       "                                       readme_contents  readme_length  \n",
       "1    If you like this project you can show support ...           8876  \n",
       "95   maxzhang.github.io\\n==================\\n\\n> Th...            102  \n",
       "99   # redux-axios-middleware\\n\\n[![npm version](ht...          11542  \n",
       "49   #  SuperMvp\\n## **MVP + RxJava3 + Retrofit + G...           3438  \n",
       "104  ######\\nExitwp\\n######\\n\\nExitwp is tool for m...           3888  "
      ]
     },
     "execution_count": 16,
     "metadata": {},
     "output_type": "execute_result"
    }
   ],
   "source": [
    "train.head()"
   ]
  },
  {
   "cell_type": "code",
   "execution_count": 17,
   "id": "ff787770-6807-4b9c-a348-3cae4503f735",
   "metadata": {},
   "outputs": [],
   "source": [
    "X= df.readme_contents\n",
    "y= df.language\n",
    "\n",
    "X_train, X_test, y_train, y_test = train_test_split(X, y, test_size =0.2, random_state=123)\n",
    "X_train, X_val, y_train, y_val = train_test_split(X_train, y_train, test_size =0.2, random_state=123)\n",
    "\n"
   ]
  },
  {
   "cell_type": "code",
   "execution_count": 18,
   "id": "7e2a5061-c0a1-4cd9-b90d-3b60ef992dae",
   "metadata": {},
   "outputs": [
    {
     "data": {
      "text/plain": [
       "(96,)"
      ]
     },
     "execution_count": 18,
     "metadata": {},
     "output_type": "execute_result"
    }
   ],
   "source": [
    "X_train.shape"
   ]
  },
  {
   "cell_type": "markdown",
   "id": "2496bd34-ba95-48af-a598-1c83fdc0f5dc",
   "metadata": {},
   "source": [
    "### Modeling"
   ]
  },
  {
   "cell_type": "markdown",
   "id": "0494a53e-e751-4e57-a5f1-e366fd58c2c0",
   "metadata": {},
   "source": [
    "**Establish Baseline**"
   ]
  },
  {
   "cell_type": "code",
   "execution_count": 41,
   "id": "53cd8e23-56f3-45f0-8dd0-ca1c25ae2d17",
   "metadata": {},
   "outputs": [
    {
     "data": {
      "text/plain": [
       "0.34523809523809523"
      ]
     },
     "execution_count": 41,
     "metadata": {},
     "output_type": "execute_result"
    }
   ],
   "source": [
    "baseline_acc = (train.language == 'Python').mean()\n",
    "baseline_acc"
   ]
  },
  {
   "cell_type": "code",
   "execution_count": 83,
   "id": "e19cf2c8-9104-4d80-ba08-704bdff994b9",
   "metadata": {},
   "outputs": [],
   "source": [
    "tv = TfidfVectorizer()\n",
    "cv= CountVectorizer()\n",
    "dt = DecisionTreeClassifier(max_depth=5)\n",
    "rf= RandomForestClassifier(max_depth= 5)\n",
    "knn = KNeighborsClassifier(n_neighbors= 5)"
   ]
  },
  {
   "cell_type": "markdown",
   "id": "6d5adb53-7237-43ba-a47b-f8e288b08464",
   "metadata": {},
   "source": [
    "**DecisionTree**"
   ]
  },
  {
   "cell_type": "code",
   "execution_count": 72,
   "id": "d1f2591d-653d-4e3e-b1dd-d7f9b3abafc8",
   "metadata": {},
   "outputs": [
    {
     "name": "stdout",
     "output_type": "stream",
     "text": [
      "Decision Tree Model score on Train set: 0.95\n",
      "Decision Tree Model score on Validate set 0.88\n"
     ]
    }
   ],
   "source": [
    "#Count Vectorizer\n",
    "train_cv= cv.fit_transform(X_train)\n",
    "dt.fit(train_cv, y_train)\n",
    "print(f'Decision Tree Model score on Train set: {round(dt.score(train_cv, y_train),2)}')\n",
    "val_cv= cv.transform(X_val)\n",
    "print(f'Decision Tree Model score on Validate set {round(dt.score(val_cv, y_val),2)}')"
   ]
  },
  {
   "cell_type": "code",
   "execution_count": 76,
   "id": "00a55862-e177-47d7-a4dd-8b43be00f910",
   "metadata": {},
   "outputs": [
    {
     "name": "stdout",
     "output_type": "stream",
     "text": [
      "Decision Tree Model score on Train set: 0.896\n",
      "Decision Tree Model score on Validate set 0.792\n"
     ]
    }
   ],
   "source": [
    "#TfidVectorizer\n",
    "train_tv= tv.fit_transform(X_train)\n",
    "dt.fit(train_tv, y_train)\n",
    "print(f'Decision Tree Model score on Train set: {round(dt.score(train_tv, y_train),3)}')\n",
    "val_tv= tv.transform(X_val)\n",
    "print(f'Decision Tree Model score on Validate set {round(dt.score(val_tv, y_val),3)}')"
   ]
  },
  {
   "cell_type": "markdown",
   "id": "47d7b6e4-d54f-4678-802b-fc8bb98b707d",
   "metadata": {},
   "source": [
    "**RandomForest**"
   ]
  },
  {
   "cell_type": "code",
   "execution_count": 82,
   "id": "c065af78-be8c-4a7d-8511-9de5b3230695",
   "metadata": {},
   "outputs": [
    {
     "name": "stdout",
     "output_type": "stream",
     "text": [
      "RandomForest Model score on Train set: 0.938\n",
      "RandomForest Model score on Validate set 0.917\n"
     ]
    }
   ],
   "source": [
    "train_tv= tv.fit_transform(X_train)\n",
    "rf.fit(train_tv, y_train)\n",
    "print(f'RandomForest Model score on Train set: {round(rf.score(train_tv, y_train),3)}')\n",
    "val_tv= tv.transform(X_val)\n",
    "print(f'RandomForest Model score on Validate set {round(rf.score(val_tv, y_val),3)}')"
   ]
  },
  {
   "cell_type": "markdown",
   "id": "bf6bcb99-4435-4748-a52d-0acf2b974232",
   "metadata": {},
   "source": [
    "**KNearest Neighbors**"
   ]
  },
  {
   "cell_type": "code",
   "execution_count": 84,
   "id": "4cac7d96-2135-4053-817b-fbf1250ebab9",
   "metadata": {},
   "outputs": [
    {
     "name": "stdout",
     "output_type": "stream",
     "text": [
      "RandomForest Model score on Train set: 0.875\n",
      "RandomForest Model score on Validate set 0.917\n"
     ]
    }
   ],
   "source": [
    "train_tv= tv.fit_transform(X_train)\n",
    "knn.fit(train_tv, y_train)\n",
    "print(f'RandomForest Model score on Train set: {round(knn.score(train_tv, y_train),3)}')\n",
    "val_tv= tv.transform(X_val)\n",
    "print(f'RandomForest Model score on Validate set {round(knn.score(val_tv, y_val),3)}')"
   ]
  },
  {
   "cell_type": "markdown",
   "id": "3f652969-a729-4d90-a170-7fbc8b48c03a",
   "metadata": {},
   "source": [
    "**Model Comparison**"
   ]
  },
  {
   "cell_type": "code",
   "execution_count": 93,
   "id": "080f7e50-dc0a-43d4-bfe7-1223a7457b02",
   "metadata": {},
   "outputs": [],
   "source": [
    "import sklearn.metrics as m\n",
    "def metrics_gala(train, val):\n",
    "    results = {}\n",
    "    \n",
    "    tv = TfidfVectorizer()\n",
    "    dt = DecisionTreeClassifier(max_depth=5)\n",
    "    rf= RandomForestClassifier(max_depth= 5)\n",
    "    knn = KNeighborsClassifier(n_neighbors= 5)\n",
    "\n",
    "    baseline_acc = 0.345\n",
    "    results['baseline'] = {'train_acc':baseline_acc}\n",
    "    \n",
    "\n",
    "    #TfidVectorizer on DT\n",
    "    train_tv= tv.fit_transform(X_train)\n",
    "    dt.fit(train_tv, y_train)\n",
    "    val_tv= tv.transform(X_val)\n",
    "    dt_train=round(dt.score(train_tv, y_train),3)\n",
    "    dt_val=round(dt.score(val_tv, y_val),3)\n",
    "    \n",
    "    results['DecisionTree']={'train_acc': dt_train,\n",
    "                            ' val_acc':dt_val,\n",
    "                            'difference': dt_train-dt_val}\n",
    "    \n",
    "    #TfidVectorizer on RF\n",
    "    train_tv= tv.fit_transform(X_train)\n",
    "    rf.fit(train_tv, y_train)\n",
    "    val_tv= tv.transform(X_val)\n",
    "    rf_train=round(rf.score(train_tv, y_train),3)\n",
    "    rf_val=round(rf.score(val_tv, y_val),3)\n",
    "    results['RandomForest']={'train_acc': round(rf.score(train_tv, y_train),3),\n",
    "                            ' val_acc':round(rf.score(val_tv, y_val),3),\n",
    "                            'difference': rf_train-rf_val}\n",
    "    \n",
    "    #TfidVectorizer on KNN\n",
    "    train_tv= tv.fit_transform(X_train)\n",
    "    knn.fit(train_tv, y_train)\n",
    "    val_tv= tv.transform(X_val)\n",
    "    knn_train=round(knn.score(train_tv, y_train),3)\n",
    "    knn_val=round(knn.score(val_tv, y_val),3)\n",
    "    results['KNearestNeighbor']={'train_acc': round(knn.score(train_tv, y_train),3),\n",
    "                                ' val_acc':round(knn.score(val_tv, y_val),3),\n",
    "                                'difference': knn_train-knn_val}\n",
    "    \n",
    "\n",
    "\n",
    "    return pd.DataFrame(results).T"
   ]
  },
  {
   "cell_type": "code",
   "execution_count": 94,
   "id": "7c650118-4aa0-4173-a743-40e5f737856b",
   "metadata": {},
   "outputs": [
    {
     "data": {
      "text/html": [
       "<div>\n",
       "<style scoped>\n",
       "    .dataframe tbody tr th:only-of-type {\n",
       "        vertical-align: middle;\n",
       "    }\n",
       "\n",
       "    .dataframe tbody tr th {\n",
       "        vertical-align: top;\n",
       "    }\n",
       "\n",
       "    .dataframe thead th {\n",
       "        text-align: right;\n",
       "    }\n",
       "</style>\n",
       "<table border=\"1\" class=\"dataframe\">\n",
       "  <thead>\n",
       "    <tr style=\"text-align: right;\">\n",
       "      <th></th>\n",
       "      <th>train_acc</th>\n",
       "      <th>val_acc</th>\n",
       "      <th>difference</th>\n",
       "    </tr>\n",
       "  </thead>\n",
       "  <tbody>\n",
       "    <tr>\n",
       "      <th>baseline</th>\n",
       "      <td>0.345</td>\n",
       "      <td>NaN</td>\n",
       "      <td>NaN</td>\n",
       "    </tr>\n",
       "    <tr>\n",
       "      <th>DecisionTree</th>\n",
       "      <td>0.896</td>\n",
       "      <td>0.792</td>\n",
       "      <td>0.104</td>\n",
       "    </tr>\n",
       "    <tr>\n",
       "      <th>RandomForest</th>\n",
       "      <td>0.938</td>\n",
       "      <td>0.875</td>\n",
       "      <td>0.063</td>\n",
       "    </tr>\n",
       "    <tr>\n",
       "      <th>KNearestNeighbor</th>\n",
       "      <td>0.875</td>\n",
       "      <td>0.917</td>\n",
       "      <td>-0.042</td>\n",
       "    </tr>\n",
       "  </tbody>\n",
       "</table>\n",
       "</div>"
      ],
      "text/plain": [
       "                  train_acc   val_acc  difference\n",
       "baseline              0.345       NaN         NaN\n",
       "DecisionTree          0.896     0.792       0.104\n",
       "RandomForest          0.938     0.875       0.063\n",
       "KNearestNeighbor      0.875     0.917      -0.042"
      ]
     },
     "execution_count": 94,
     "metadata": {},
     "output_type": "execute_result"
    }
   ],
   "source": [
    "metrics_gala(train, val)"
   ]
  }
 ],
 "metadata": {
  "kernelspec": {
   "display_name": "Python 3 (ipykernel)",
   "language": "python",
   "name": "python3"
  },
  "language_info": {
   "codemirror_mode": {
    "name": "ipython",
    "version": 3
   },
   "file_extension": ".py",
   "mimetype": "text/x-python",
   "name": "python",
   "nbconvert_exporter": "python",
   "pygments_lexer": "ipython3",
   "version": "3.9.13"
  }
 },
 "nbformat": 4,
 "nbformat_minor": 5
}
