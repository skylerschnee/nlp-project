{
 "cells": [
  {
   "cell_type": "code",
   "execution_count": 5,
   "id": "dc01d79d-48f7-4a85-a38b-728c3d02f077",
   "metadata": {},
   "outputs": [],
   "source": [
    "import pandas as pd\n",
    "import numpy as np\n",
    "import acquire as a\n",
    "import prepare as p\n",
    "\n",
    "\n",
    "import matplotlib.pyplot as plt\n",
    "import seaborn as sb\n",
    "\n",
    "import nltk\n",
    "from nltk.corpus import stopwords\n",
    "import unicodedata\n",
    "import re\n",
    "import requests\n",
    "from bs4 import BeautifulSoup as bs\n",
    "import json\n",
    "from PIL import Image\n",
    "\n",
    "from sklearn.model_selection import train_test_split\n",
    "from sklearn.feature_extraction.text import TfidfVectorizer, CountVectorizer\n",
    "from sklearn.linear_model import LogisticRegression\n",
    "from sklearn.metrics import classification_report, accuracy_score, confusion_matrix\n",
    "from sklearn.tree import DecisionTreeClassifier \n",
    "from sklearn.ensemble import RandomForestClassifier\n",
    "from sklearn.neighbors import KNeighborsClassifier\n",
    "\n",
    "import warnings\n",
    "warnings.filterwarnings('ignore')\n",
    "# nltk.download('all')\n",
    "\n"
   ]
  },
  {
   "cell_type": "markdown",
   "id": "e6b93629-f114-40e8-b77c-3ac775a0fd48",
   "metadata": {},
   "source": [
    "### Acquire"
   ]
  },
  {
   "cell_type": "code",
   "execution_count": 6,
   "id": "44d52a2c-e907-4d14-ad63-e774cebe2c12",
   "metadata": {},
   "outputs": [],
   "source": [
    "df = a.get_dataFrame()"
   ]
  },
  {
   "cell_type": "code",
   "execution_count": 7,
   "id": "5ae32633-36c6-46ce-bfce-70d8e612580a",
   "metadata": {},
   "outputs": [],
   "source": [
    "df = p.basic_clean_df(df)"
   ]
  },
  {
   "cell_type": "code",
   "execution_count": 8,
   "id": "c05a0e96-319c-465d-9fdc-1e0b4d3b78c3",
   "metadata": {},
   "outputs": [
    {
     "data": {
      "text/html": [
       "<div>\n",
       "<style scoped>\n",
       "    .dataframe tbody tr th:only-of-type {\n",
       "        vertical-align: middle;\n",
       "    }\n",
       "\n",
       "    .dataframe tbody tr th {\n",
       "        vertical-align: top;\n",
       "    }\n",
       "\n",
       "    .dataframe thead th {\n",
       "        text-align: right;\n",
       "    }\n",
       "</style>\n",
       "<table border=\"1\" class=\"dataframe\">\n",
       "  <thead>\n",
       "    <tr style=\"text-align: right;\">\n",
       "      <th></th>\n",
       "      <th>language</th>\n",
       "      <th>readme_contents</th>\n",
       "      <th>readme_length</th>\n",
       "    </tr>\n",
       "  </thead>\n",
       "  <tbody>\n",
       "    <tr>\n",
       "      <th>0</th>\n",
       "      <td>java</td>\n",
       "      <td>development moved httpsgithubcomjasonellejason...</td>\n",
       "      <td>50</td>\n",
       "    </tr>\n",
       "    <tr>\n",
       "      <th>1</th>\n",
       "      <td>java</td>\n",
       "      <td>like project show support starring repository ...</td>\n",
       "      <td>6691</td>\n",
       "    </tr>\n",
       "    <tr>\n",
       "      <th>2</th>\n",
       "      <td>java</td>\n",
       "      <td>circularimageview custom view circular image a...</td>\n",
       "      <td>2405</td>\n",
       "    </tr>\n",
       "    <tr>\n",
       "      <th>3</th>\n",
       "      <td>java</td>\n",
       "      <td>android system ui training  android uiforkstar...</td>\n",
       "      <td>589</td>\n",
       "    </tr>\n",
       "    <tr>\n",
       "      <th>4</th>\n",
       "      <td>java</td>\n",
       "      <td>tianti httpsyuedubaiducomebookaefafbdfbafetian...</td>\n",
       "      <td>2862</td>\n",
       "    </tr>\n",
       "    <tr>\n",
       "      <th>...</th>\n",
       "      <td>...</td>\n",
       "      <td>...</td>\n",
       "      <td>...</td>\n",
       "    </tr>\n",
       "    <tr>\n",
       "      <th>145</th>\n",
       "      <td>python</td>\n",
       "      <td>convolutional neural network sentence classifi...</td>\n",
       "      <td>882</td>\n",
       "    </tr>\n",
       "    <tr>\n",
       "      <th>146</th>\n",
       "      <td>python</td>\n",
       "      <td>alexapi use new alexapi httpsgithubcomalexapia...</td>\n",
       "      <td>2841</td>\n",
       "    </tr>\n",
       "    <tr>\n",
       "      <th>147</th>\n",
       "      <td>python</td>\n",
       "      <td>introduction hangupsbot chat bot designed work...</td>\n",
       "      <td>5440</td>\n",
       "    </tr>\n",
       "    <tr>\n",
       "      <th>148</th>\n",
       "      <td>python</td>\n",
       "      <td>tool allows scan multiple host heartbleed effi...</td>\n",
       "      <td>1065</td>\n",
       "    </tr>\n",
       "    <tr>\n",
       "      <th>149</th>\n",
       "      <td>python</td>\n",
       "      <td>important note bigcouch longer supported cloud...</td>\n",
       "      <td>1115</td>\n",
       "    </tr>\n",
       "  </tbody>\n",
       "</table>\n",
       "<p>150 rows × 3 columns</p>\n",
       "</div>"
      ],
      "text/plain": [
       "    language                                    readme_contents  readme_length\n",
       "0       java  development moved httpsgithubcomjasonellejason...             50\n",
       "1       java  like project show support starring repository ...           6691\n",
       "2       java  circularimageview custom view circular image a...           2405\n",
       "3       java  android system ui training  android uiforkstar...            589\n",
       "4       java  tianti httpsyuedubaiducomebookaefafbdfbafetian...           2862\n",
       "..       ...                                                ...            ...\n",
       "145   python  convolutional neural network sentence classifi...            882\n",
       "146   python  alexapi use new alexapi httpsgithubcomalexapia...           2841\n",
       "147   python  introduction hangupsbot chat bot designed work...           5440\n",
       "148   python  tool allows scan multiple host heartbleed effi...           1065\n",
       "149   python  important note bigcouch longer supported cloud...           1115\n",
       "\n",
       "[150 rows x 3 columns]"
      ]
     },
     "execution_count": 8,
     "metadata": {},
     "output_type": "execute_result"
    }
   ],
   "source": [
    "df"
   ]
  },
  {
   "cell_type": "code",
   "execution_count": 4,
   "id": "828b4047-7628-4a77-8683-d9a7bfc3df9b",
   "metadata": {},
   "outputs": [
    {
     "data": {
      "text/plain": [
       "Java          50\n",
       "JavaScript    50\n",
       "Python        50\n",
       "Name: language, dtype: int64"
      ]
     },
     "execution_count": 4,
     "metadata": {},
     "output_type": "execute_result"
    }
   ],
   "source": [
    "df.language.value_counts()"
   ]
  },
  {
   "cell_type": "code",
   "execution_count": 5,
   "id": "205343ca-36ac-4e01-88bd-a87f220187f4",
   "metadata": {},
   "outputs": [
    {
     "data": {
      "text/plain": [
       "repo               0\n",
       "language           0\n",
       "readme_contents    0\n",
       "dtype: int64"
      ]
     },
     "execution_count": 5,
     "metadata": {},
     "output_type": "execute_result"
    }
   ],
   "source": [
    "df.isnull().sum()"
   ]
  },
  {
   "cell_type": "markdown",
   "id": "77d1a6e0-ad04-40ea-aad5-2f097580556f",
   "metadata": {},
   "source": [
    "### Prepare"
   ]
  },
  {
   "cell_type": "code",
   "execution_count": 6,
   "id": "ccded8a2-585a-4b80-bd2e-f8afed98d4cb",
   "metadata": {},
   "outputs": [],
   "source": [
    "from nltk.corpus import stopwords"
   ]
  },
  {
   "cell_type": "code",
   "execution_count": 7,
   "id": "a4ae8fab-f836-4dc1-814c-e40c27647e4a",
   "metadata": {
    "tags": []
   },
   "outputs": [
    {
     "data": {
      "text/html": [
       "<div>\n",
       "<style scoped>\n",
       "    .dataframe tbody tr th:only-of-type {\n",
       "        vertical-align: middle;\n",
       "    }\n",
       "\n",
       "    .dataframe tbody tr th {\n",
       "        vertical-align: top;\n",
       "    }\n",
       "\n",
       "    .dataframe thead th {\n",
       "        text-align: right;\n",
       "    }\n",
       "</style>\n",
       "<table border=\"1\" class=\"dataframe\">\n",
       "  <thead>\n",
       "    <tr style=\"text-align: right;\">\n",
       "      <th></th>\n",
       "      <th>repo</th>\n",
       "      <th>language</th>\n",
       "      <th>readme_contents</th>\n",
       "    </tr>\n",
       "  </thead>\n",
       "  <tbody>\n",
       "    <tr>\n",
       "      <th>0</th>\n",
       "      <td>jasonettejasonetteandroid</td>\n",
       "      <td>java</td>\n",
       "      <td>development moved httpsgithubcomjasonellejason...</td>\n",
       "    </tr>\n",
       "    <tr>\n",
       "      <th>1</th>\n",
       "      <td>vivcharrendererrecyclerviewadapter</td>\n",
       "      <td>java</td>\n",
       "      <td>like project show support starring repository ...</td>\n",
       "    </tr>\n",
       "    <tr>\n",
       "      <th>2</th>\n",
       "      <td>pkmmtecircularimageview</td>\n",
       "      <td>java</td>\n",
       "      <td>circularimageview custom view circular image a...</td>\n",
       "    </tr>\n",
       "    <tr>\n",
       "      <th>3</th>\n",
       "      <td>dclockandroidsystemuitraining</td>\n",
       "      <td>java</td>\n",
       "      <td>android system ui training  android uiforkstar...</td>\n",
       "    </tr>\n",
       "    <tr>\n",
       "      <th>4</th>\n",
       "      <td>xujefftianti</td>\n",
       "      <td>java</td>\n",
       "      <td>tianti httpsyuedubaiducomebook7a5efa31fbd6195f...</td>\n",
       "    </tr>\n",
       "    <tr>\n",
       "      <th>...</th>\n",
       "      <td>...</td>\n",
       "      <td>...</td>\n",
       "      <td>...</td>\n",
       "    </tr>\n",
       "    <tr>\n",
       "      <th>145</th>\n",
       "      <td>alexanderrakhlincnnforsentenceclassificationin...</td>\n",
       "      <td>python</td>\n",
       "      <td>convolutional neural network sentence classifi...</td>\n",
       "    </tr>\n",
       "    <tr>\n",
       "      <th>146</th>\n",
       "      <td>alexapialexapideprecated</td>\n",
       "      <td>python</td>\n",
       "      <td>alexapi use new alexapi httpsgithubcomalexapia...</td>\n",
       "    </tr>\n",
       "    <tr>\n",
       "      <th>147</th>\n",
       "      <td>hangoutsbothangoutsbot</td>\n",
       "      <td>python</td>\n",
       "      <td>introduction hangupsbot chat bot designed work...</td>\n",
       "    </tr>\n",
       "    <tr>\n",
       "      <th>148</th>\n",
       "      <td>musalbasheartbleedmasstest</td>\n",
       "      <td>python</td>\n",
       "      <td>tool allows scan multiple host heartbleed effi...</td>\n",
       "    </tr>\n",
       "    <tr>\n",
       "      <th>149</th>\n",
       "      <td>cloudantbigcouch</td>\n",
       "      <td>python</td>\n",
       "      <td>important note bigcouch longer supported cloud...</td>\n",
       "    </tr>\n",
       "  </tbody>\n",
       "</table>\n",
       "<p>150 rows × 3 columns</p>\n",
       "</div>"
      ],
      "text/plain": [
       "                                                  repo language  \\\n",
       "0                            jasonettejasonetteandroid     java   \n",
       "1                   vivcharrendererrecyclerviewadapter     java   \n",
       "2                              pkmmtecircularimageview     java   \n",
       "3                        dclockandroidsystemuitraining     java   \n",
       "4                                         xujefftianti     java   \n",
       "..                                                 ...      ...   \n",
       "145  alexanderrakhlincnnforsentenceclassificationin...   python   \n",
       "146                           alexapialexapideprecated   python   \n",
       "147                             hangoutsbothangoutsbot   python   \n",
       "148                         musalbasheartbleedmasstest   python   \n",
       "149                                   cloudantbigcouch   python   \n",
       "\n",
       "                                       readme_contents  \n",
       "0    development moved httpsgithubcomjasonellejason...  \n",
       "1    like project show support starring repository ...  \n",
       "2    circularimageview custom view circular image a...  \n",
       "3    android system ui training  android uiforkstar...  \n",
       "4    tianti httpsyuedubaiducomebook7a5efa31fbd6195f...  \n",
       "..                                                 ...  \n",
       "145  convolutional neural network sentence classifi...  \n",
       "146  alexapi use new alexapi httpsgithubcomalexapia...  \n",
       "147  introduction hangupsbot chat bot designed work...  \n",
       "148  tool allows scan multiple host heartbleed effi...  \n",
       "149  important note bigcouch longer supported cloud...  \n",
       "\n",
       "[150 rows x 3 columns]"
      ]
     },
     "execution_count": 7,
     "metadata": {},
     "output_type": "execute_result"
    }
   ],
   "source": [
    "basic_clean_df2(df)"
   ]
  },
  {
   "cell_type": "code",
   "execution_count": 8,
   "id": "a1b11c03-fb46-4df2-a688-ccf2b49a3105",
   "metadata": {},
   "outputs": [],
   "source": [
    "# def readme_length(df, col):\n",
    "#     \"\"\" This function takes in each README.md file and returns the word count for each file\"\"\"\n",
    "#     length = []\n",
    "#     for x in df[col]:\n",
    "#         read_len= len(x)\n",
    "#         length.append(read_len)\n",
    "#     return length"
   ]
  },
  {
   "cell_type": "code",
   "execution_count": 9,
   "id": "66bcd9b2-b988-435d-8815-2c015f475b4e",
   "metadata": {},
   "outputs": [],
   "source": [
    "df['readme_length']= readme_length(df,'readme_contents')"
   ]
  },
  {
   "cell_type": "code",
   "execution_count": 10,
   "id": "d9412526-4be0-40bd-819d-ecfd1520c7c3",
   "metadata": {},
   "outputs": [
    {
     "data": {
      "text/html": [
       "<div>\n",
       "<style scoped>\n",
       "    .dataframe tbody tr th:only-of-type {\n",
       "        vertical-align: middle;\n",
       "    }\n",
       "\n",
       "    .dataframe tbody tr th {\n",
       "        vertical-align: top;\n",
       "    }\n",
       "\n",
       "    .dataframe thead th {\n",
       "        text-align: right;\n",
       "    }\n",
       "</style>\n",
       "<table border=\"1\" class=\"dataframe\">\n",
       "  <thead>\n",
       "    <tr style=\"text-align: right;\">\n",
       "      <th></th>\n",
       "      <th>repo</th>\n",
       "      <th>language</th>\n",
       "      <th>readme_contents</th>\n",
       "      <th>readme_length</th>\n",
       "    </tr>\n",
       "  </thead>\n",
       "  <tbody>\n",
       "    <tr>\n",
       "      <th>0</th>\n",
       "      <td>Jasonette/JASONETTE-Android</td>\n",
       "      <td>Java</td>\n",
       "      <td>Development Moved to\\nhttps://github.com/jason...</td>\n",
       "      <td>61</td>\n",
       "    </tr>\n",
       "    <tr>\n",
       "      <th>1</th>\n",
       "      <td>vivchar/RendererRecyclerViewAdapter</td>\n",
       "      <td>Java</td>\n",
       "      <td>If you like this project you can show support ...</td>\n",
       "      <td>8876</td>\n",
       "    </tr>\n",
       "    <tr>\n",
       "      <th>2</th>\n",
       "      <td>Pkmmte/CircularImageView</td>\n",
       "      <td>Java</td>\n",
       "      <td>CircularImageView\\n=================\\n\\nCustom...</td>\n",
       "      <td>3599</td>\n",
       "    </tr>\n",
       "    <tr>\n",
       "      <th>3</th>\n",
       "      <td>D-clock/AndroidSystemUiTraining</td>\n",
       "      <td>Java</td>\n",
       "      <td># Android System UI Training\\n\\n本代码库整理总结 Andro...</td>\n",
       "      <td>905</td>\n",
       "    </tr>\n",
       "    <tr>\n",
       "      <th>4</th>\n",
       "      <td>xujeff/tianti</td>\n",
       "      <td>Java</td>\n",
       "      <td># 天梯（tianti）\\n  [天梯](https://yuedu.baidu.com/e...</td>\n",
       "      <td>4557</td>\n",
       "    </tr>\n",
       "    <tr>\n",
       "      <th>...</th>\n",
       "      <td>...</td>\n",
       "      <td>...</td>\n",
       "      <td>...</td>\n",
       "      <td>...</td>\n",
       "    </tr>\n",
       "    <tr>\n",
       "      <th>145</th>\n",
       "      <td>alexander-rakhlin/CNN-for-Sentence-Classificat...</td>\n",
       "      <td>Python</td>\n",
       "      <td># Convolutional Neural Networks for Sentence C...</td>\n",
       "      <td>1200</td>\n",
       "    </tr>\n",
       "    <tr>\n",
       "      <th>146</th>\n",
       "      <td>alexa-pi/AlexaPiDEPRECATED</td>\n",
       "      <td>Python</td>\n",
       "      <td># AlexaPi\\n\\n## Use the new AlexaPi https://gi...</td>\n",
       "      <td>4457</td>\n",
       "    </tr>\n",
       "    <tr>\n",
       "      <th>147</th>\n",
       "      <td>hangoutsbot/hangoutsbot</td>\n",
       "      <td>Python</td>\n",
       "      <td># Introduction\\n\\nHangupsbot is a chat bot des...</td>\n",
       "      <td>7766</td>\n",
       "    </tr>\n",
       "    <tr>\n",
       "      <th>148</th>\n",
       "      <td>musalbas/heartbleed-masstest</td>\n",
       "      <td>Python</td>\n",
       "      <td>This tool allows you to scan multiple hosts fo...</td>\n",
       "      <td>1813</td>\n",
       "    </tr>\n",
       "    <tr>\n",
       "      <th>149</th>\n",
       "      <td>cloudant/bigcouch</td>\n",
       "      <td>Python</td>\n",
       "      <td>## IMPORTANT NOTE: BigCouch is no longer suppo...</td>\n",
       "      <td>1517</td>\n",
       "    </tr>\n",
       "  </tbody>\n",
       "</table>\n",
       "<p>150 rows × 4 columns</p>\n",
       "</div>"
      ],
      "text/plain": [
       "                                                  repo language  \\\n",
       "0                          Jasonette/JASONETTE-Android     Java   \n",
       "1                  vivchar/RendererRecyclerViewAdapter     Java   \n",
       "2                             Pkmmte/CircularImageView     Java   \n",
       "3                      D-clock/AndroidSystemUiTraining     Java   \n",
       "4                                        xujeff/tianti     Java   \n",
       "..                                                 ...      ...   \n",
       "145  alexander-rakhlin/CNN-for-Sentence-Classificat...   Python   \n",
       "146                         alexa-pi/AlexaPiDEPRECATED   Python   \n",
       "147                            hangoutsbot/hangoutsbot   Python   \n",
       "148                       musalbas/heartbleed-masstest   Python   \n",
       "149                                  cloudant/bigcouch   Python   \n",
       "\n",
       "                                       readme_contents  readme_length  \n",
       "0    Development Moved to\\nhttps://github.com/jason...             61  \n",
       "1    If you like this project you can show support ...           8876  \n",
       "2    CircularImageView\\n=================\\n\\nCustom...           3599  \n",
       "3    # Android System UI Training\\n\\n本代码库整理总结 Andro...            905  \n",
       "4    # 天梯（tianti）\\n  [天梯](https://yuedu.baidu.com/e...           4557  \n",
       "..                                                 ...            ...  \n",
       "145  # Convolutional Neural Networks for Sentence C...           1200  \n",
       "146  # AlexaPi\\n\\n## Use the new AlexaPi https://gi...           4457  \n",
       "147  # Introduction\\n\\nHangupsbot is a chat bot des...           7766  \n",
       "148  This tool allows you to scan multiple hosts fo...           1813  \n",
       "149  ## IMPORTANT NOTE: BigCouch is no longer suppo...           1517  \n",
       "\n",
       "[150 rows x 4 columns]"
      ]
     },
     "execution_count": 10,
     "metadata": {},
     "output_type": "execute_result"
    }
   ],
   "source": [
    "df"
   ]
  },
  {
   "cell_type": "markdown",
   "id": "ebdc1cc8-dad8-4163-b69f-49166953aac0",
   "metadata": {},
   "source": [
    "### Explore \n",
    "\n",
    "Will come back to this. Moving on to modeling"
   ]
  },
  {
   "cell_type": "code",
   "execution_count": null,
   "id": "e7e70d68-1ad4-4545-a6ec-773a8ccda655",
   "metadata": {},
   "outputs": [],
   "source": []
  },
  {
   "cell_type": "markdown",
   "id": "5a03b56f-1b19-4147-a1a0-50ee45cd8e0c",
   "metadata": {},
   "source": [
    "### Split"
   ]
  },
  {
   "cell_type": "code",
   "execution_count": 11,
   "id": "6c08ab43-4882-4fec-a4fb-112c70082625",
   "metadata": {},
   "outputs": [],
   "source": [
    "from sklearn.model_selection import train_test_split"
   ]
  },
  {
   "cell_type": "code",
   "execution_count": 10,
   "id": "38539c64-b4c0-4895-b1f0-7178b80f099c",
   "metadata": {},
   "outputs": [],
   "source": [
    "train, val, test = p.train_val_test(df, stratify=True, target='language')"
   ]
  },
  {
   "cell_type": "code",
   "execution_count": 11,
   "id": "7c1abf55-baaf-4f88-9409-15b84d8e277f",
   "metadata": {},
   "outputs": [
    {
     "data": {
      "text/plain": [
       "((84, 3), (36, 3), (30, 3))"
      ]
     },
     "execution_count": 11,
     "metadata": {},
     "output_type": "execute_result"
    }
   ],
   "source": [
    "train.shape, val.shape, test.shape"
   ]
  },
  {
   "cell_type": "code",
   "execution_count": 16,
   "id": "da470b9f-ad6c-445c-b577-6339373bf472",
   "metadata": {},
   "outputs": [
    {
     "data": {
      "text/html": [
       "<div>\n",
       "<style scoped>\n",
       "    .dataframe tbody tr th:only-of-type {\n",
       "        vertical-align: middle;\n",
       "    }\n",
       "\n",
       "    .dataframe tbody tr th {\n",
       "        vertical-align: top;\n",
       "    }\n",
       "\n",
       "    .dataframe thead th {\n",
       "        text-align: right;\n",
       "    }\n",
       "</style>\n",
       "<table border=\"1\" class=\"dataframe\">\n",
       "  <thead>\n",
       "    <tr style=\"text-align: right;\">\n",
       "      <th></th>\n",
       "      <th>repo</th>\n",
       "      <th>language</th>\n",
       "      <th>readme_contents</th>\n",
       "      <th>readme_length</th>\n",
       "    </tr>\n",
       "  </thead>\n",
       "  <tbody>\n",
       "    <tr>\n",
       "      <th>1</th>\n",
       "      <td>vivchar/RendererRecyclerViewAdapter</td>\n",
       "      <td>Java</td>\n",
       "      <td>If you like this project you can show support ...</td>\n",
       "      <td>8876</td>\n",
       "    </tr>\n",
       "    <tr>\n",
       "      <th>95</th>\n",
       "      <td>maxzhang/maxzhang.github.com</td>\n",
       "      <td>JavaScript</td>\n",
       "      <td>maxzhang.github.io\\n==================\\n\\n&gt; Th...</td>\n",
       "      <td>102</td>\n",
       "    </tr>\n",
       "    <tr>\n",
       "      <th>99</th>\n",
       "      <td>svrcekmichal/redux-axios-middleware</td>\n",
       "      <td>JavaScript</td>\n",
       "      <td># redux-axios-middleware\\n\\n[![npm version](ht...</td>\n",
       "      <td>11542</td>\n",
       "    </tr>\n",
       "    <tr>\n",
       "      <th>49</th>\n",
       "      <td>liuyanggithub/SuperMvp</td>\n",
       "      <td>Java</td>\n",
       "      <td>#  SuperMvp\\n## **MVP + RxJava3 + Retrofit + G...</td>\n",
       "      <td>3438</td>\n",
       "    </tr>\n",
       "    <tr>\n",
       "      <th>104</th>\n",
       "      <td>some-programs/exitwp</td>\n",
       "      <td>Python</td>\n",
       "      <td>######\\nExitwp\\n######\\n\\nExitwp is tool for m...</td>\n",
       "      <td>3888</td>\n",
       "    </tr>\n",
       "  </tbody>\n",
       "</table>\n",
       "</div>"
      ],
      "text/plain": [
       "                                    repo    language  \\\n",
       "1    vivchar/RendererRecyclerViewAdapter        Java   \n",
       "95          maxzhang/maxzhang.github.com  JavaScript   \n",
       "99   svrcekmichal/redux-axios-middleware  JavaScript   \n",
       "49                liuyanggithub/SuperMvp        Java   \n",
       "104                 some-programs/exitwp      Python   \n",
       "\n",
       "                                       readme_contents  readme_length  \n",
       "1    If you like this project you can show support ...           8876  \n",
       "95   maxzhang.github.io\\n==================\\n\\n> Th...            102  \n",
       "99   # redux-axios-middleware\\n\\n[![npm version](ht...          11542  \n",
       "49   #  SuperMvp\\n## **MVP + RxJava3 + Retrofit + G...           3438  \n",
       "104  ######\\nExitwp\\n######\\n\\nExitwp is tool for m...           3888  "
      ]
     },
     "execution_count": 16,
     "metadata": {},
     "output_type": "execute_result"
    }
   ],
   "source": [
    "train.head()"
   ]
  },
  {
   "cell_type": "code",
   "execution_count": 12,
   "id": "ff787770-6807-4b9c-a348-3cae4503f735",
   "metadata": {},
   "outputs": [],
   "source": [
    "# X= df.readme_contents\n",
    "# y= df.language\n",
    "\n",
    "# X_train, X_test, y_train, y_test = train_test_split(X, y, test_size =0.2, random_state=123)\n",
    "# X_train, X_val, y_train, y_val = train_test_split(X_train, y_train, test_size =0.2, random_state=123)\n",
    "\n"
   ]
  },
  {
   "cell_type": "code",
   "execution_count": 14,
   "id": "7e2a5061-c0a1-4cd9-b90d-3b60ef992dae",
   "metadata": {},
   "outputs": [],
   "source": [
    "# X_train.shape"
   ]
  },
  {
   "cell_type": "code",
   "execution_count": 13,
   "id": "474ddfd1-0167-4d6d-98da-cdb93e714e34",
   "metadata": {},
   "outputs": [],
   "source": [
    "x_train = train['readme_contents']\n",
    "y_train = train.language\n",
    "\n",
    "x_val = val['readme_contents']\n",
    "y_val = val.language\n",
    "\n",
    "\n",
    "x_test = test['readme_contents']\n",
    "y_test = test.language"
   ]
  },
  {
   "cell_type": "markdown",
   "id": "2496bd34-ba95-48af-a598-1c83fdc0f5dc",
   "metadata": {},
   "source": [
    "### Modeling"
   ]
  },
  {
   "cell_type": "markdown",
   "id": "0494a53e-e751-4e57-a5f1-e366fd58c2c0",
   "metadata": {},
   "source": [
    "**Establish Baseline**"
   ]
  },
  {
   "cell_type": "code",
   "execution_count": 16,
   "id": "53cd8e23-56f3-45f0-8dd0-ca1c25ae2d17",
   "metadata": {},
   "outputs": [
    {
     "data": {
      "text/plain": [
       "0.3333333333333333"
      ]
     },
     "execution_count": 16,
     "metadata": {},
     "output_type": "execute_result"
    }
   ],
   "source": [
    "baseline_acc = (train.language == 'python').mean()\n",
    "baseline_acc"
   ]
  },
  {
   "cell_type": "code",
   "execution_count": 17,
   "id": "e19cf2c8-9104-4d80-ba08-704bdff994b9",
   "metadata": {},
   "outputs": [],
   "source": [
    "tv = TfidfVectorizer()\n",
    "cv= CountVectorizer()\n",
    "dt = DecisionTreeClassifier(max_depth=5)\n",
    "rf= RandomForestClassifier(max_depth= 5)\n",
    "knn = KNeighborsClassifier(n_neighbors= 5)"
   ]
  },
  {
   "cell_type": "markdown",
   "id": "6d5adb53-7237-43ba-a47b-f8e288b08464",
   "metadata": {},
   "source": [
    "**DecisionTree**"
   ]
  },
  {
   "cell_type": "code",
   "execution_count": 18,
   "id": "d1f2591d-653d-4e3e-b1dd-d7f9b3abafc8",
   "metadata": {},
   "outputs": [
    {
     "name": "stdout",
     "output_type": "stream",
     "text": [
      "Decision Tree Model score on Train set: 0.89\n",
      "Decision Tree Model score on Validate set 0.61\n"
     ]
    }
   ],
   "source": [
    "#Count Vectorizer\n",
    "train_cv= cv.fit_transform(x_train)\n",
    "dt.fit(train_cv, y_train)\n",
    "print(f'Decision Tree Model score on Train set: {round(dt.score(train_cv, y_train),2)}')\n",
    "val_cv= cv.transform(x_val)\n",
    "print(f'Decision Tree Model score on Validate set {round(dt.score(val_cv, y_val),2)}')"
   ]
  },
  {
   "cell_type": "code",
   "execution_count": 19,
   "id": "00a55862-e177-47d7-a4dd-8b43be00f910",
   "metadata": {},
   "outputs": [
    {
     "name": "stdout",
     "output_type": "stream",
     "text": [
      "Decision Tree Model score on Train set: 0.905\n",
      "Decision Tree Model score on Validate set 0.667\n"
     ]
    }
   ],
   "source": [
    "#TfidVectorizer\n",
    "train_tv= tv.fit_transform(x_train)\n",
    "dt.fit(train_tv, y_train)\n",
    "print(f'Decision Tree Model score on Train set: {round(dt.score(train_tv, y_train),3)}')\n",
    "val_tv= tv.transform(x_val)\n",
    "print(f'Decision Tree Model score on Validate set {round(dt.score(val_tv, y_val),3)}')"
   ]
  },
  {
   "cell_type": "markdown",
   "id": "47d7b6e4-d54f-4678-802b-fc8bb98b707d",
   "metadata": {},
   "source": [
    "**RandomForest**"
   ]
  },
  {
   "cell_type": "code",
   "execution_count": 20,
   "id": "c065af78-be8c-4a7d-8511-9de5b3230695",
   "metadata": {},
   "outputs": [
    {
     "name": "stdout",
     "output_type": "stream",
     "text": [
      "RandomForest Model score on Train set: 0.976\n",
      "RandomForest Model score on Validate set 0.75\n"
     ]
    }
   ],
   "source": [
    "train_tv= tv.fit_transform(x_train)\n",
    "rf.fit(train_tv, y_train)\n",
    "print(f'RandomForest Model score on Train set: {round(rf.score(train_tv, y_train),3)}')\n",
    "val_tv= tv.transform(x_val)\n",
    "print(f'RandomForest Model score on Validate set {round(rf.score(val_tv, y_val),3)}')"
   ]
  },
  {
   "cell_type": "markdown",
   "id": "bf6bcb99-4435-4748-a52d-0acf2b974232",
   "metadata": {},
   "source": [
    "**KNearest Neighbors**"
   ]
  },
  {
   "cell_type": "code",
   "execution_count": 54,
   "id": "4cac7d96-2135-4053-817b-fbf1250ebab9",
   "metadata": {},
   "outputs": [
    {
     "name": "stdout",
     "output_type": "stream",
     "text": [
      "RandomForest Model score on Train set: 0.81\n",
      "RandomForest Model score on Validate set 0.81\n",
      "Accuracy of Random Forest classifier on test set: 0.90\n"
     ]
    }
   ],
   "source": [
    "train_tv= tv.fit_transform(x_train)\n",
    "knn.fit(train_tv, y_train)\n",
    "print(f'RandomForest Model score on Train set: {round(knn.score(train_tv, y_train),2)}')\n",
    "val_tv= tv.transform(x_val)\n",
    "print(f'RandomForest Model score on Validate set {round(knn.score(val_tv, y_val),2)}')\n",
    "\n",
    "x_test_bow = tfidf.transform(x_test)\n",
    "nb.score(x_test_bow, y_test)\n",
    "print('Accuracy of Random Forest classifier on test set: {:.2f}'\n",
    "     .format(knn.score(x_test_bow, y_test)))"
   ]
  },
  {
   "cell_type": "markdown",
   "id": "9d6af632-a837-4e36-b00e-680ac2292837",
   "metadata": {},
   "source": [
    "**Naive Bayes**"
   ]
  },
  {
   "cell_type": "code",
   "execution_count": 50,
   "id": "47937326-9a8e-435e-8ff2-47f3c100744c",
   "metadata": {},
   "outputs": [
    {
     "name": "stdout",
     "output_type": "stream",
     "text": [
      "Accuracy of Naive_bayes classifier on training set: 1.00\n",
      "Accuracy of Naive_bayes classifier on validation set: 0.89\n",
      "Accuracy of Naive_bayes classifier on test set: 0.87\n"
     ]
    }
   ],
   "source": [
    "from sklearn.naive_bayes import MultinomialNB\n",
    "tfidf = TfidfVectorizer()\n",
    "nb = MultinomialNB()\n",
    "X_bow = tfidf.fit_transform(x_train)\n",
    "nb.fit(X_bow, y_train)\n",
    "nb.score(X_bow, y_train)\n",
    "x_val_bow = tfidf.transform(x_val)\n",
    "nb.score(x_val_bow, y_val)\n",
    "print('Accuracy of Naive_bayes classifier on training set: {:.2f}'\n",
    "     .format(nb.score(X_bow, y_train)))\n",
    "print('Accuracy of Naive_bayes classifier on validation set: {:.2f}'\n",
    "     .format(nb.score(x_val_bow, y_val)))\n",
    "\n",
    "\n",
    "x_test_bow = tfidf.transform(x_test)\n",
    "nb.score(x_test_bow, y_test)\n",
    "print('Accuracy of Naive_bayes classifier on test set: {:.2f}'\n",
    "     .format(nb.score(x_test_bow, y_test)))\n"
   ]
  },
  {
   "cell_type": "markdown",
   "id": "3f652969-a729-4d90-a170-7fbc8b48c03a",
   "metadata": {},
   "source": [
    "**Model Comparison**"
   ]
  },
  {
   "cell_type": "code",
   "execution_count": 48,
   "id": "080f7e50-dc0a-43d4-bfe7-1223a7457b02",
   "metadata": {},
   "outputs": [],
   "source": [
    "import sklearn.metrics as m\n",
    "def metrics_gala(train, val):\n",
    "    results = {}\n",
    "    \n",
    "    tv = TfidfVectorizer()\n",
    "    dt = DecisionTreeClassifier(max_depth=5)\n",
    "    rf= RandomForestClassifier(max_depth= 5)\n",
    "    knn = KNeighborsClassifier(n_neighbors= 5)\n",
    "\n",
    "    baseline_acc = round((train.language == 'python').mean(),2)\n",
    "    results['baseline'] = {'train_acc':baseline_acc}\n",
    "    \n",
    "\n",
    "    #TfidVectorizer on DT\n",
    "    train_tv= tv.fit_transform(x_train)\n",
    "    dt.fit(train_tv, y_train)\n",
    "    val_tv= tv.transform(x_val)\n",
    "    dt_train=round(dt.score(train_tv, y_train),2)\n",
    "    dt_val=round(dt.score(val_tv, y_val),2)\n",
    "    \n",
    "    results['DecisionTree']={'train_acc': dt_train,\n",
    "                            ' val_acc':dt_val,\n",
    "                            'difference': dt_train-dt_val}\n",
    "    \n",
    "    #TfidVectorizer on RF\n",
    "    train_tv= tv.fit_transform(x_train)\n",
    "    rf.fit(train_tv, y_train)\n",
    "    val_tv= tv.transform(x_val)\n",
    "    rf_train=round(rf.score(train_tv, y_train),2)\n",
    "    rf_val=round(rf.score(val_tv, y_val),2)\n",
    "    results['RandomForest']={'train_acc': round(rf.score(train_tv, y_train),2),\n",
    "                            ' val_acc':round(rf.score(val_tv, y_val),2),\n",
    "                            'difference': rf_train-rf_val}\n",
    "    \n",
    "    #TfidVectorizer on KNN\n",
    "    train_tv= tv.fit_transform(x_train)\n",
    "    knn.fit(train_tv, y_train)\n",
    "    val_tv= tv.transform(x_val)\n",
    "    knn_train=round(knn.score(train_tv, y_train),2)\n",
    "    knn_val=round(knn.score(val_tv, y_val),2)\n",
    "    results['KNearestNeighbor']={'train_acc':knn_train,\n",
    "                                ' val_acc':knn_val,\n",
    "                                'difference': knn_train-knn_val}\n",
    "    \n",
    "    tfidf = TfidfVectorizer()\n",
    "    nb = MultinomialNB()\n",
    "    X_bow = tfidf.fit_transform(x_train)\n",
    "    nb.fit(X_bow, y_train)\n",
    "    nb_train = nb.score(X_bow, y_train)\n",
    "    x_val_bow = tfidf.transform(x_val)\n",
    "    nb_val = nb.score(x_val_bow, y_val)\n",
    "    results['Naive Bayes']={'train_acc': round(nb_train,2),\n",
    "                                ' val_acc':round(nb_val,2),\n",
    "                                'difference': nb_train-nb_val}\n",
    "    \n",
    "    \n",
    "\n",
    "\n",
    "    return pd.DataFrame(results).T"
   ]
  },
  {
   "cell_type": "code",
   "execution_count": 49,
   "id": "7c650118-4aa0-4173-a743-40e5f737856b",
   "metadata": {},
   "outputs": [
    {
     "data": {
      "text/html": [
       "<div>\n",
       "<style scoped>\n",
       "    .dataframe tbody tr th:only-of-type {\n",
       "        vertical-align: middle;\n",
       "    }\n",
       "\n",
       "    .dataframe tbody tr th {\n",
       "        vertical-align: top;\n",
       "    }\n",
       "\n",
       "    .dataframe thead th {\n",
       "        text-align: right;\n",
       "    }\n",
       "</style>\n",
       "<table border=\"1\" class=\"dataframe\">\n",
       "  <thead>\n",
       "    <tr style=\"text-align: right;\">\n",
       "      <th></th>\n",
       "      <th>train_acc</th>\n",
       "      <th>val_acc</th>\n",
       "      <th>difference</th>\n",
       "    </tr>\n",
       "  </thead>\n",
       "  <tbody>\n",
       "    <tr>\n",
       "      <th>baseline</th>\n",
       "      <td>0.33</td>\n",
       "      <td>NaN</td>\n",
       "      <td>NaN</td>\n",
       "    </tr>\n",
       "    <tr>\n",
       "      <th>DecisionTree</th>\n",
       "      <td>0.90</td>\n",
       "      <td>0.67</td>\n",
       "      <td>0.230000</td>\n",
       "    </tr>\n",
       "    <tr>\n",
       "      <th>RandomForest</th>\n",
       "      <td>0.96</td>\n",
       "      <td>0.67</td>\n",
       "      <td>0.290000</td>\n",
       "    </tr>\n",
       "    <tr>\n",
       "      <th>KNearestNeighbor</th>\n",
       "      <td>0.81</td>\n",
       "      <td>0.81</td>\n",
       "      <td>0.000000</td>\n",
       "    </tr>\n",
       "    <tr>\n",
       "      <th>Naive Bayes</th>\n",
       "      <td>1.00</td>\n",
       "      <td>0.89</td>\n",
       "      <td>0.111111</td>\n",
       "    </tr>\n",
       "  </tbody>\n",
       "</table>\n",
       "</div>"
      ],
      "text/plain": [
       "                  train_acc   val_acc  difference\n",
       "baseline               0.33       NaN         NaN\n",
       "DecisionTree           0.90      0.67    0.230000\n",
       "RandomForest           0.96      0.67    0.290000\n",
       "KNearestNeighbor       0.81      0.81    0.000000\n",
       "Naive Bayes            1.00      0.89    0.111111"
      ]
     },
     "execution_count": 49,
     "metadata": {},
     "output_type": "execute_result"
    }
   ],
   "source": [
    "metrics_gala(train, val)"
   ]
  }
 ],
 "metadata": {
  "kernelspec": {
   "display_name": "Python 3 (ipykernel)",
   "language": "python",
   "name": "python3"
  },
  "language_info": {
   "codemirror_mode": {
    "name": "ipython",
    "version": 3
   },
   "file_extension": ".py",
   "mimetype": "text/x-python",
   "name": "python",
   "nbconvert_exporter": "python",
   "pygments_lexer": "ipython3",
   "version": "3.9.13"
  }
 },
 "nbformat": 4,
 "nbformat_minor": 5
}
